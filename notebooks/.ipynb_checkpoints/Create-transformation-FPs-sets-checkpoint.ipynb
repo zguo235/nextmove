{
 "cells": [
  {
   "cell_type": "code",
   "execution_count": 1,
   "metadata": {},
   "outputs": [
    {
     "ename": "ImportError",
     "evalue": "No module named rdkit",
     "output_type": "error",
     "traceback": [
      "\u001b[1;31m---------------------------------------------------------------------------\u001b[0m",
      "\u001b[1;31mImportError\u001b[0m                               Traceback (most recent call last)",
      "\u001b[1;32m<ipython-input-1-fc973f2712b3>\u001b[0m in \u001b[0;36m<module>\u001b[1;34m()\u001b[0m\n\u001b[1;32m----> 1\u001b[1;33m \u001b[1;32mfrom\u001b[0m \u001b[0mrdkit\u001b[0m \u001b[1;32mimport\u001b[0m \u001b[0mChem\u001b[0m\u001b[1;33m\u001b[0m\u001b[0m\n\u001b[0m\u001b[0;32m      2\u001b[0m \u001b[1;32mfrom\u001b[0m \u001b[0mrdkit\u001b[0m\u001b[1;33m.\u001b[0m\u001b[0mChem\u001b[0m \u001b[1;32mimport\u001b[0m \u001b[0mAllChem\u001b[0m\u001b[1;33m\u001b[0m\u001b[0m\n\u001b[0;32m      3\u001b[0m \u001b[1;32mfrom\u001b[0m \u001b[0mrdkit\u001b[0m \u001b[1;32mimport\u001b[0m \u001b[0mDataStructs\u001b[0m\u001b[1;33m\u001b[0m\u001b[0m\n\u001b[0;32m      4\u001b[0m \u001b[1;32mimport\u001b[0m \u001b[0mcPickle\u001b[0m\u001b[1;33m,\u001b[0m\u001b[0mgzip\u001b[0m\u001b[1;33m\u001b[0m\u001b[0m\n\u001b[0;32m      5\u001b[0m \u001b[1;32mfrom\u001b[0m \u001b[0mcollections\u001b[0m \u001b[1;32mimport\u001b[0m \u001b[0mdefaultdict\u001b[0m\u001b[1;33m\u001b[0m\u001b[0m\n",
      "\u001b[1;31mImportError\u001b[0m: No module named rdkit"
     ]
    }
   ],
   "source": [
    "from rdkit import Chem\n",
    "from rdkit.Chem import AllChem\n",
    "from rdkit import DataStructs\n",
    "import cPickle,gzip\n",
    "from collections import defaultdict\n",
    "import random\n",
    "import createFingerprintsReaction"
   ]
  },
  {
   "cell_type": "code",
   "execution_count": 2,
   "metadata": {},
   "outputs": [],
   "source": [
    "dataDir = \"../data/\""
   ]
  },
  {
   "cell_type": "markdown",
   "metadata": {},
   "source": [
    "Create different transformation FPs (AP3, MG2 and TT) as SparseIntVect"
   ]
  },
  {
   "cell_type": "code",
   "execution_count": 3,
   "metadata": {},
   "outputs": [
    {
     "name": "stdout",
     "output_type": "stream",
     "text": [
      "Done: 5000\n",
      "Done: 10000\n",
      "Done: 15000\n",
      "Done: 20000\n",
      "Done: 25000\n",
      "Done: 30000\n",
      "Done: 35000\n",
      "Done: 40000\n",
      "Done: 45000\n",
      "Done: 50000\n"
     ]
    }
   ],
   "source": [
    "infile = gzip.open(dataDir+'training_test_set_patent_data.pkl.gz', 'rb')\n",
    "pklfile = gzip.open(dataDir+'transformationFPs_test_set_patent_data.pkl.gz','wb+')\n",
    "\n",
    "lineNo=0\n",
    "while 1:\n",
    "    lineNo+=1\n",
    "    try:\n",
    "        smi,lbl,klass = cPickle.load(infile) \n",
    "    except EOFError:\n",
    "        break\n",
    "    try:\n",
    "        rxn = AllChem.ReactionFromSmarts(smi,useSmiles=True)\n",
    "        fp_AP3 = createFingerprintsReaction.create_transformation_FP(rxn,AllChem.FingerprintType.AtomPairFP)\n",
    "        fp_MG2 = createFingerprintsReaction.create_transformation_FP(rxn,AllChem.FingerprintType.MorganFP)\n",
    "        fp_TT = createFingerprintsReaction.create_transformation_FP(rxn,AllChem.FingerprintType.TopologicalTorsion)\n",
    "    except:\n",
    "        print \"Cannot build fingerprint/reaction of: %s\\n\"%smi\n",
    "        continue;\n",
    "    cPickle.dump((lbl,klass,fp_AP3, fp_MG2, fp_TT),pklfile,2)\n",
    "    if not lineNo%5000:\n",
    "        print \"Done: %d\"%lineNo"
   ]
  },
  {
   "cell_type": "markdown",
   "metadata": {},
   "source": [
    "Combine AP3 fingerprint with agent feature und Morgan2 FPs"
   ]
  },
  {
   "cell_type": "code",
   "execution_count": 4,
   "metadata": {},
   "outputs": [
    {
     "name": "stdout",
     "output_type": "stream",
     "text": [
      "Done: 5000\n",
      "Done: 10000\n",
      "Done: 15000\n",
      "Done: 20000\n",
      "Done: 25000\n",
      "Done: 30000\n",
      "Done: 35000\n",
      "Done: 40000\n",
      "Done: 45000\n",
      "Done: 50000\n"
     ]
    }
   ],
   "source": [
    "infile = gzip.open(dataDir+'training_test_set_patent_data.pkl.gz', 'rb')\n",
    "pklfile = gzip.open(dataDir+'transformationFPs_MG2_agentFPs_test_set_patent_data.pkl.gz','wb+')\n",
    "\n",
    "lineNo=0\n",
    "while 1:\n",
    "    lineNo+=1\n",
    "    try:\n",
    "        smi,lbl,klass = cPickle.load(infile) \n",
    "    except EOFError:\n",
    "        break\n",
    "    try:\n",
    "        rxn = AllChem.ReactionFromSmarts(smi,useSmiles=True)\n",
    "        fp_AP3 = createFingerprintsReaction.create_transformation_FP(rxn,AllChem.FingerprintType.AtomPairFP)\n",
    "        fp_MG2_agents = createFingerprintsReaction.create_agent_morgan2_FP(rxn)\n",
    "        if fp_MG2_agents is None:\n",
    "            fp_MG2_agents = DataStructs.UIntSparseIntVect(4096)\n",
    "        fp_featureAgent = createFingerprintsReaction.create_agent_feature_FP(rxn)\n",
    "    except:\n",
    "        print \"Cannot build fingerprint/reaction of: %s\\n\"%smi\n",
    "        continue;\n",
    "    cPickle.dump((lbl,klass,fp_AP3,fp_featureAgent,fp_MG2_agents),pklfile,2)\n",
    "    if not lineNo%5000:\n",
    "        print \"Done: %d\"%lineNo"
   ]
  },
  {
   "cell_type": "markdown",
   "metadata": {},
   "source": [
    "Create transformation FP (AP3 + agent featureFP) for external test set A"
   ]
  },
  {
   "cell_type": "code",
   "execution_count": 5,
   "metadata": {},
   "outputs": [
    {
     "name": "stdout",
     "output_type": "stream",
     "text": [
      "Done: 5000\n",
      "Done: 10000\n",
      "Done: 15000\n",
      "Done: 20000\n",
      "Done: 25000\n",
      "Done: 30000\n",
      "Done: 35000\n",
      "Done: 40000\n",
      "Done: 45000\n",
      "Done: 50000\n"
     ]
    }
   ],
   "source": [
    "infile = gzip.open(dataDir+'training_test_set_patent_data.pkl.gz', 'rb')\n",
    "pklfile = gzip.open(dataDir+'transformationFPs_agentFPs_external_test_set_A.pkl.gz','wb+')\n",
    "\n",
    "lineNo=0\n",
    "while 1:\n",
    "    lineNo+=1\n",
    "    try:\n",
    "        smi,lbl,klass = cPickle.load(infile) \n",
    "    except EOFError:\n",
    "        break\n",
    "    try:\n",
    "        rxn = AllChem.ReactionFromSmarts(smi,useSmiles=True)\n",
    "        fp_AP3 = createFingerprintsReaction.create_transformation_FP(rxn,AllChem.FingerprintType.AtomPairFP)\n",
    "        fp_featureAgent = createFingerprintsReaction.create_agent_feature_FP(rxn)\n",
    "    except:\n",
    "        print \"Cannot build fingerprint/reaction of: %s\\n\"%smi\n",
    "        continue;\n",
    "    cPickle.dump((lbl,klass,fp_AP3,fp_featureAgent),pklfile,2)\n",
    "    if not lineNo%5000:\n",
    "        print \"Done: %d\"%lineNo"
   ]
  },
  {
   "cell_type": "markdown",
   "metadata": {},
   "source": [
    "Create transformation FP (AP3 + agent featureFP) for external test set B (unclassified reactions)"
   ]
  },
  {
   "cell_type": "code",
   "execution_count": 6,
   "metadata": {},
   "outputs": [
    {
     "name": "stdout",
     "output_type": "stream",
     "text": [
      "Done: 5000\n",
      "Done: 10000\n",
      "Done: 15000\n",
      "Done: 20000\n",
      "Done: 25000\n",
      "Done: 30000\n",
      "Done: 35000\n",
      "Done: 40000\n",
      "Done: 45000\n",
      "Done: 50000\n"
     ]
    }
   ],
   "source": [
    "infile = gzip.open(dataDir+'unclassified_reactions_patent_data.pkl.gz', 'rb')\n",
    "pklfile = gzip.open(dataDir+'transformationFPs_agentFPs_external_test_set_B.pkl.gz','wb+')\n",
    "\n",
    "lineNo=0\n",
    "while 1:\n",
    "    lineNo+=1\n",
    "    try:\n",
    "        smi,lbl,klass = cPickle.load(infile) \n",
    "    except EOFError:\n",
    "        break\n",
    "    try:\n",
    "        rxn = AllChem.ReactionFromSmarts(smi,useSmiles=True)\n",
    "        fp_AP3 = createFingerprintsReaction.create_transformation_FP(rxn,AllChem.FingerprintType.AtomPairFP)\n",
    "        fp_featureAgent = createFingerprintsReaction.create_agent_feature_FP(rxn)\n",
    "    except:\n",
    "        print \"Cannot build fingerprint/reaction of: %s\\n\"%smi\n",
    "        continue;\n",
    "    cPickle.dump((lbl,smi,fp_AP3,fp_featureAgent),pklfile,2)\n",
    "    if not lineNo%5000:\n",
    "        print \"Done: %d\"%lineNo"
   ]
  }
 ],
 "metadata": {
  "kernelspec": {
   "display_name": "Python 2",
   "language": "python",
   "name": "python2"
  },
  "language_info": {
   "codemirror_mode": {
    "name": "ipython",
    "version": 2
   },
   "file_extension": ".py",
   "mimetype": "text/x-python",
   "name": "python",
   "nbconvert_exporter": "python",
   "pygments_lexer": "ipython2",
   "version": "2.7.14"
  }
 },
 "nbformat": 4,
 "nbformat_minor": 1
}
